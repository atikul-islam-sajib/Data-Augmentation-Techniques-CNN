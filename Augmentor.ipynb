{
 "cells": [
  {
   "cell_type": "markdown",
   "metadata": {},
   "source": [
    "# Data Augmentation using Augmentor"
   ]
  },
  {
   "cell_type": "markdown",
   "metadata": {},
   "source": [
    "### Installiing Augmentor"
   ]
  },
  {
   "cell_type": "code",
   "execution_count": 1,
   "metadata": {},
   "outputs": [
    {
     "name": "stdout",
     "output_type": "stream",
     "text": [
      "Collecting Augmentor\n",
      "  Downloading https://files.pythonhosted.org/packages/cb/79/861f38d5830cff631e30e33b127076bfef8ac98171e51daa06df0118c75f/Augmentor-0.2.8-py2.py3-none-any.whl\n",
      "Requirement already satisfied: tqdm>=4.9.0 in /home/paul/anaconda3/lib/python3.7/site-packages (from Augmentor) (4.28.1)\n",
      "Requirement already satisfied: Pillow>=5.2.0 in /home/paul/anaconda3/lib/python3.7/site-packages (from Augmentor) (5.3.0)\n",
      "Requirement already satisfied: future>=0.16.0 in /home/paul/anaconda3/lib/python3.7/site-packages (from Augmentor) (0.17.1)\n",
      "Requirement already satisfied: numpy>=1.11.0 in /home/paul/anaconda3/lib/python3.7/site-packages (from Augmentor) (1.18.4)\n",
      "Installing collected packages: Augmentor\n",
      "Successfully installed Augmentor-0.2.8\n"
     ]
    }
   ],
   "source": [
    "!pip install Augmentor"
   ]
  },
  {
   "cell_type": "markdown",
   "metadata": {},
   "source": [
    "### Initialising a pipeline"
   ]
  },
  {
   "cell_type": "code",
   "execution_count": 5,
   "metadata": {},
   "outputs": [
    {
     "name": "stdout",
     "output_type": "stream",
     "text": [
      "Initialised with 5 image(s) found.\n",
      "Output directory set to /home/paul/dataAugmentation/imgs/output."
     ]
    }
   ],
   "source": [
    "import Augmentor\n",
    "p = Augmentor.Pipeline(\"/home/paul/dataAugmentation/imgs\")"
   ]
  },
  {
   "cell_type": "markdown",
   "metadata": {},
   "source": [
    "### Rotating\n",
    "\n",
    "> Rotating can be performed in a number of ways. When rotating by modulo 90, the image is simply rotated and saved. To rotate by arbitrary degrees, then a crop is taken from the centre of the newly rotated image.\n",
    "\n",
    "Rotate functions that are available are:\n",
    "\n",
    "-    rotate()\n",
    "-    rotate90()\n",
    "-    rotate180()\n",
    "-    rotate270()\n",
    "-    rotate_random_90()\n"
   ]
  },
  {
   "cell_type": "markdown",
   "metadata": {},
   "source": [
    "#### Abouth the probabilty argument\n",
    "\n",
    "- probability – A value between 0 and 1 representing the probability that the operation should be performed."
   ]
  },
  {
   "cell_type": "code",
   "execution_count": 6,
   "metadata": {},
   "outputs": [],
   "source": [
    "p.rotate(probability=0.3, max_left_rotation=10, max_right_rotation=10)"
   ]
  },
  {
   "cell_type": "code",
   "execution_count": 7,
   "metadata": {},
   "outputs": [],
   "source": [
    "p.rotate90(probability=0.3)"
   ]
  },
  {
   "cell_type": "code",
   "execution_count": 8,
   "metadata": {},
   "outputs": [],
   "source": [
    "p.rotate270(probability=0.3)"
   ]
  },
  {
   "cell_type": "markdown",
   "metadata": {},
   "source": [
    "### Flipping\n",
    "\n",
    "Flip (mirror) the image along its horizontal axis, i.e. from left to right."
   ]
  },
  {
   "cell_type": "code",
   "execution_count": 14,
   "metadata": {},
   "outputs": [],
   "source": [
    "p.flip_left_right(probability=0.3)"
   ]
  },
  {
   "cell_type": "markdown",
   "metadata": {},
   "source": [
    "Flip (mirror) the image along its vertical axis, i.e. from top to bottom."
   ]
  },
  {
   "cell_type": "code",
   "execution_count": 15,
   "metadata": {},
   "outputs": [],
   "source": [
    "p.flip_top_bottom(probability=0.3)"
   ]
  },
  {
   "cell_type": "markdown",
   "metadata": {},
   "source": [
    "### Cropping\n",
    "\n",
    "Crop a random area of an image, based on the percentage area to be returned.\n",
    "\n",
    "This function crops a random area from an image, based on the area you specify using percentage_area."
   ]
  },
  {
   "cell_type": "code",
   "execution_count": 16,
   "metadata": {},
   "outputs": [],
   "source": [
    "p.crop_random(probability=.1, percentage_area=0.5)"
   ]
  },
  {
   "cell_type": "markdown",
   "metadata": {},
   "source": [
    "- percentage_area (Float) – The area, as a percentage of the current image’s area, to crop.\n",
    "- randomise_percentage_area (Boolean) – If True, will use percentage_area as an upper bound and randomise the crop from between 0 and percentage_area."
   ]
  },
  {
   "cell_type": "markdown",
   "metadata": {},
   "source": [
    "### Resizing\n",
    "\n",
    "Resize an image according to a set of dimensions specified by the user in pixels."
   ]
  },
  {
   "cell_type": "code",
   "execution_count": 17,
   "metadata": {},
   "outputs": [],
   "source": [
    "p.resize(probability=0.1, width=100, height=100)"
   ]
  },
  {
   "cell_type": "markdown",
   "metadata": {},
   "source": [
    "- width (Integer) – The new width that the image should be resized to.\n",
    "- height (Integer) – The new height that the image should be resized to."
   ]
  },
  {
   "cell_type": "markdown",
   "metadata": {},
   "source": [
    "### Random Brightness\n",
    "\n",
    "Random change brightness of an image."
   ]
  },
  {
   "cell_type": "code",
   "execution_count": 18,
   "metadata": {},
   "outputs": [],
   "source": [
    "p.random_brightness(probability = 0.5, min_factor=0.4, max_factor=0.9)"
   ]
  },
  {
   "cell_type": "markdown",
   "metadata": {},
   "source": [
    "- min_factor – The value between 0.0 and max_factor that define the minimum adjustment of image brightness. The value 0.0 gives a black image, value 1.0 gives the original image, value bigger than 1.0 gives more bright image.\n",
    "\n",
    "- max_factor – A value should be bigger than min_factor that define the maximum adjustment of image brightness. The value 0.0 gives a black image, value 1.0 gives the original image, value bigger than 1.0 gives more bright image."
   ]
  },
  {
   "cell_type": "markdown",
   "metadata": {},
   "source": [
    "### Random Color\n",
    "\n",
    "Random change saturation of an image."
   ]
  },
  {
   "cell_type": "code",
   "execution_count": 19,
   "metadata": {},
   "outputs": [],
   "source": [
    "p.random_color(probability=0.5, min_factor=0.4, max_factor=0.9)"
   ]
  },
  {
   "cell_type": "markdown",
   "metadata": {},
   "source": [
    "- min_factor – The value between 0.0 and max_factor that define the minimum adjustment of image saturation. The value 0.0 gives a black and white image, value 1.0 gives the original image.\n",
    "- max_factor – A value should be bigger than min_factor that define the maximum adjustment of image saturation. The value 0.0 gives a black and white image, value 1.0 gives the original image."
   ]
  },
  {
   "cell_type": "markdown",
   "metadata": {},
   "source": [
    "### Random Contrast\n",
    "\n",
    "Random change image contrast."
   ]
  },
  {
   "cell_type": "code",
   "execution_count": 20,
   "metadata": {},
   "outputs": [],
   "source": [
    "p.random_contrast(probability=0.5, min_factor=0.9, max_factor=1.4)"
   ]
  },
  {
   "cell_type": "markdown",
   "metadata": {},
   "source": [
    "- min_factor – The value between 0.0 and max_factor that define the minimum adjustment of image contrast. The value 0.0 gives s solid grey image, value 1.0 gives the original image.\n",
    "- max_factor – A value should be bigger than min_factor that define the maximum adjustment of image contrast. The value 0.0 gives s solid grey image, value 1.0 gives the original image."
   ]
  },
  {
   "cell_type": "markdown",
   "metadata": {},
   "source": [
    "### Random distortion\n",
    "\n",
    "Random distortions allow you to make distortions to an image while maintaining the image’s aspect ratio.\n",
    "\n",
    "\n",
    "This function performs a randomised, elastic distortion controlled by the parameters specified. The grid width and height controls how fine the distortions are. Smaller sizes will result in larger, more pronounced, and less granular distortions. Larger numbers will result in finer, more granular distortions. The magnitude of the distortions can be controlled using magnitude."
   ]
  },
  {
   "cell_type": "code",
   "execution_count": 21,
   "metadata": {},
   "outputs": [],
   "source": [
    "p.random_distortion(probability=0.5, grid_width=7, grid_height=8, magnitude=9)"
   ]
  },
  {
   "cell_type": "markdown",
   "metadata": {},
   "source": [
    "- grid_width (Integer) – The number of rectangles in the grid’s horizontal axis.\n",
    "- grid_height (Integer) – The number of rectangles in the grid’s vertical axis.\n",
    "- magnitude (Integer) – The magnitude of the distortions."
   ]
  },
  {
   "cell_type": "markdown",
   "metadata": {},
   "source": [
    "### Random Erasing\n",
    "\n",
    "This operation performs a Random Erasing operation, as described in https://arxiv.org/abs/1708.04896 by Zhong et al.\n",
    "\n",
    "Its purpose is to make models robust to occlusion, by randomly replacing rectangular regions with random pixel values.\n",
    "\n",
    "For greyscale images the random pixels values will also be greyscale, and for RGB images the random pixels values will be in RGB.\n",
    "\n"
   ]
  },
  {
   "cell_type": "code",
   "execution_count": 22,
   "metadata": {},
   "outputs": [],
   "source": [
    "p.random_erasing(probability=0.5, rectangle_area=0.2)"
   ]
  },
  {
   "cell_type": "markdown",
   "metadata": {},
   "source": [
    "- rectangle_area – The percentage area of the image to occlude with the random rectangle, between 0.1 and 1."
   ]
  },
  {
   "cell_type": "markdown",
   "metadata": {},
   "source": [
    "### Zooming\n",
    "\n",
    "Zoom in to an image, while maintaining its size. The amount by which the image is zoomed is a randomly chosen value between min_factor and max_factor."
   ]
  },
  {
   "cell_type": "code",
   "execution_count": 23,
   "metadata": {},
   "outputs": [],
   "source": [
    "p.zoom(probability=0.7, min_factor=1.1, max_factor=1.5)"
   ]
  },
  {
   "cell_type": "markdown",
   "metadata": {},
   "source": [
    "- min_factor (Float) – The minimum factor by which to zoom the image.\n",
    "- max_factor (Float) – The maximum factor by which to zoom the image."
   ]
  },
  {
   "cell_type": "markdown",
   "metadata": {},
   "source": [
    "### Output"
   ]
  },
  {
   "cell_type": "code",
   "execution_count": 24,
   "metadata": {},
   "outputs": [
    {
     "name": "stderr",
     "output_type": "stream",
     "text": [
      "Processing <PIL.Image.Image image mode=RGB size=576x744 at 0x7FDA3563E588>: 100%|██████████| 100/100 [00:08<00:00, 11.91 Samples/s] \n"
     ]
    }
   ],
   "source": [
    "# Change the samples size according to requirements\n",
    "p.sample(100)"
   ]
  },
  {
   "cell_type": "markdown",
   "metadata": {},
   "source": [
    "## EXPLORE MORE OPERATIONS"
   ]
  },
  {
   "cell_type": "markdown",
   "metadata": {},
   "source": [
    "[OFFICIAL DOCUMENTATION] : https://augmentor.readthedocs.io/en/master/index.html"
   ]
  },
  {
   "cell_type": "code",
   "execution_count": null,
   "metadata": {},
   "outputs": [],
   "source": []
  },
  {
   "cell_type": "code",
   "execution_count": null,
   "metadata": {},
   "outputs": [],
   "source": []
  }
 ],
 "metadata": {
  "kernelspec": {
   "display_name": "Python 3",
   "language": "python",
   "name": "python3"
  },
  "language_info": {
   "codemirror_mode": {
    "name": "ipython",
    "version": 3
   },
   "file_extension": ".py",
   "mimetype": "text/x-python",
   "name": "python",
   "nbconvert_exporter": "python",
   "pygments_lexer": "ipython3",
   "version": "3.7.1"
  }
 },
 "nbformat": 4,
 "nbformat_minor": 2
}
